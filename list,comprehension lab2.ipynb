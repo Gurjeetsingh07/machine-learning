{
  "nbformat": 4,
  "nbformat_minor": 0,
  "metadata": {
    "colab": {
      "name": "Untitled0.ipynb",
      "provenance": [],
      "collapsed_sections": [],
      "authorship_tag": "ABX9TyNmEnffaT0fqy97KKLbrRLH",
      "include_colab_link": true
    },
    "kernelspec": {
      "name": "python3",
      "display_name": "Python 3"
    },
    "language_info": {
      "name": "python"
    }
  },
  "cells": [
    {
      "cell_type": "markdown",
      "metadata": {
        "id": "view-in-github",
        "colab_type": "text"
      },
      "source": [
        "<a href=\"https://colab.research.google.com/github/Gurjeetsingh07/machine-learning/blob/main/list%2Ccomprehension%20lab2.ipynb\" target=\"_parent\"><img src=\"https://colab.research.google.com/assets/colab-badge.svg\" alt=\"Open In Colab\"/></a>"
      ]
    },
    {
      "cell_type": "code",
      "execution_count": 4,
      "metadata": {
        "colab": {
          "base_uri": "https://localhost:8080/"
        },
        "id": "GDPv-ixnSP8Y",
        "outputId": "7ccd0da6-0b7d-4f00-9dd3-1a76f63cc739"
      },
      "outputs": [
        {
          "output_type": "execute_result",
          "data": {
            "text/plain": [
              "[(0, 'hi'), (1, 129), (2, 3), (3, 4), (4, (1, 'hi'))]"
            ]
          },
          "metadata": {},
          "execution_count": 4
        }
      ],
      "source": [
        "#get the index and value for item in a list(enumerate)\n",
        "items=['hi',129,3,4,(1,'hi')]\n",
        "[(index,value) for index, value in enumerate(items)]"
      ]
    },
    {
      "cell_type": "code",
      "source": [
        "#find the common in the tools using list comprehension\n",
        "l1=[1,2,3,4,5,67,8]\n",
        "l2=[1,2,43,7,5,8]\n",
        "[i for i in l1 for j in l2 if i==j]\n",
        "[i for i in l1 if i in l2]\n"
      ],
      "metadata": {
        "colab": {
          "base_uri": "https://localhost:8080/"
        },
        "id": "s3IDyBwUTZsz",
        "outputId": "0dbcfa6d-57db-4ded-9135-761eca0d6c62"
      },
      "execution_count": 10,
      "outputs": [
        {
          "output_type": "execute_result",
          "data": {
            "text/plain": [
              "[1, 2, 5, 8]"
            ]
          },
          "metadata": {},
          "execution_count": 10
        }
      ]
    },
    {
      "cell_type": "code",
      "source": [
        "x=\"this is csit department \"\n",
        "[i for i in x if i==' ']\n",
        "print(len(l1))\n",
        "i=x.split()\n",
        "[j for j in i]"
      ],
      "metadata": {
        "id": "scG4tiazVNkn"
      },
      "execution_count": null,
      "outputs": []
    },
    {
      "cell_type": "code",
      "source": [
        "x=\"this is csit department \"\n",
        "i=x.split()\n",
        "[i for i in x if not i.isalpha()]\n",
        "[i for i in x.split()  if i.isalpha and len(i) >4 ]\n"
      ],
      "metadata": {
        "id": "VQ7qHG9-V4x6"
      },
      "execution_count": null,
      "outputs": []
    },
    {
      "cell_type": "code",
      "source": [
        "[i for j in range(2,9) for i in range (1,101) if(i%j)==0]"
      ],
      "metadata": {
        "id": "B1nEQJNvXIYx"
      },
      "execution_count": null,
      "outputs": []
    }
  ]
}