{
  "nbformat": 4,
  "nbformat_minor": 0,
  "metadata": {
    "colab": {
      "name": "CT-15 Neural_Network_Classification.ipynb",
      "provenance": [],
      "collapsed_sections": [],
      "include_colab_link": true
    },
    "kernelspec": {
      "name": "python3",
      "display_name": "Python 3"
    },
    "language_info": {
      "name": "python"
    }
  },
  "cells": [
    {
      "cell_type": "markdown",
      "metadata": {
        "id": "view-in-github",
        "colab_type": "text"
      },
      "source": [
        "<a href=\"https://colab.research.google.com/github/Gurjeetsingh07/machine-learning/blob/main/CT_15_Neural_Network_Classification.ipynb\" target=\"_parent\"><img src=\"https://colab.research.google.com/assets/colab-badge.svg\" alt=\"Open In Colab\"/></a>"
      ]
    },
    {
      "cell_type": "markdown",
      "metadata": {
        "id": "nhPEM4IUoDKA"
      },
      "source": [
        "CO CST IMPLEMENTATION OF NEURAL NETWORK\n",
        "\n"
      ]
    },
    {
      "cell_type": "code",
      "source": [
        ""
      ],
      "metadata": {
        "id": "bDN6Un_6rAR9"
      },
      "execution_count": null,
      "outputs": []
    },
    {
      "cell_type": "markdown",
      "metadata": {
        "id": "ZpJe0cAaoG98"
      },
      "source": [
        "# Tutorial 3: Neural Network Classification"
      ]
    },
    {
      "cell_type": "markdown",
      "metadata": {
        "id": "dIT7QrK2PwdM"
      },
      "source": [
        "Dataset: [Pima Indian Diabetes Dataset](https://data.world/data-society/pima-indians-diabetes-database#)\n",
        "\n",
        "This dataset is originally from the National Institute of Diabetes and Digestive and Kidney Diseases. The objective is to predict based on diagnostic measurements whether a patient has diabetes.\n",
        "\n",
        "Several constraints were placed on the selection of these instances from a larger database. In particular, all patients here are females at least 21 years old of Pima Indian heritage.\n",
        "\n",
        "Attributes of PIMA dataset:\n",
        "\n",
        "**Pregnancies**: Number of times pregnant\n",
        "\n",
        "**Glucose**: Plasma glucose concentration a 2 hours in an oral glucose tolerance test\n",
        "\n",
        "**BloodPressure**: Diastolic blood pressure (mm Hg)\n",
        "\n",
        "**SkinThickness**: Triceps skin fold thickness (mm)\n",
        "\n",
        "**Insulin**: 2-Hour serum insulin (mu U/ml)\n",
        "\n",
        "**BMI**: Body mass index (weight in kg/(height in m)^2)\n",
        "\n",
        "**DiabetesPedigreeFunction**: Diabetes pedigree function\n",
        "\n",
        "**Age**: Age (years)\n",
        "\n",
        "**Outcome**: Class variable (0 or 1)"
      ]
    },
    {
      "cell_type": "markdown",
      "metadata": {
        "id": "FIAgs3sTY712"
      },
      "source": [
        "**1. Mount the Google Drive**"
      ]
    },
    {
      "cell_type": "code",
      "metadata": {
        "id": "CrZg_G5MQ4L5",
        "colab": {
          "base_uri": "https://localhost:8080/"
        },
        "outputId": "8bd56d22-2d1a-4719-c7c4-17aab3bfdbae"
      },
      "source": [
        "from google.colab import drive\n",
        "drive.mount('/content/drive')"
      ],
      "execution_count": 2,
      "outputs": [
        {
          "output_type": "stream",
          "name": "stdout",
          "text": [
            "Drive already mounted at /content/drive; to attempt to forcibly remount, call drive.mount(\"/content/drive\", force_remount=True).\n"
          ]
        }
      ]
    },
    {
      "cell_type": "markdown",
      "metadata": {
        "id": "CqAhYoWHZAwg"
      },
      "source": [
        "**2. Move to the place where data resides**"
      ]
    },
    {
      "cell_type": "code",
      "metadata": {
        "colab": {
          "base_uri": "https://localhost:8080/"
        },
        "id": "TjgG_3CiP4eQ",
        "outputId": "57c42c98-2ee8-4e85-b37c-3472e94b8a15"
      },
      "source": [
        "%cd /content/drive/MyDrive/csv files"
      ],
      "execution_count": 3,
      "outputs": [
        {
          "output_type": "stream",
          "name": "stdout",
          "text": [
            "/content/drive/MyDrive/csv files\n"
          ]
        }
      ]
    },
    {
      "cell_type": "code",
      "source": [
        "!ls"
      ],
      "metadata": {
        "id": "S-KhHH_xATY8",
        "colab": {
          "base_uri": "https://localhost:8080/"
        },
        "outputId": "3880facd-ba37-407a-9c55-e74647e6dafb"
      },
      "execution_count": 4,
      "outputs": [
        {
          "output_type": "stream",
          "name": "stdout",
          "text": [
            "diabetes.csv  test.csv\ttrain.csv\n"
          ]
        }
      ]
    },
    {
      "cell_type": "code",
      "source": [
        ""
      ],
      "metadata": {
        "id": "f65jHMx2I_1O"
      },
      "execution_count": null,
      "outputs": []
    },
    {
      "cell_type": "markdown",
      "metadata": {
        "id": "VKvfswsOZLUB"
      },
      "source": [
        "**3. Read the dataset from CSV file**"
      ]
    },
    {
      "cell_type": "code",
      "metadata": {
        "colab": {
          "base_uri": "https://localhost:8080/",
          "height": 363
        },
        "id": "32nNonRSSaQq",
        "outputId": "891b8d1e-ce92-412a-a822-eca0bf057ea8"
      },
      "source": [
        "import pandas as pd\n",
        "data = pd.read_csv('diabetes.csv')\n",
        "data.head(10)"
      ],
      "execution_count": 5,
      "outputs": [
        {
          "output_type": "execute_result",
          "data": {
            "text/plain": [
              "   Pregnancies  Glucose  BloodPressure  SkinThickness  Insulin   BMI  \\\n",
              "0            6      148             72             35        0  33.6   \n",
              "1            1       85             66             29        0  26.6   \n",
              "2            8      183             64              0        0  23.3   \n",
              "3            1       89             66             23       94  28.1   \n",
              "4            0      137             40             35      168  43.1   \n",
              "5            5      116             74              0        0  25.6   \n",
              "6            3       78             50             32       88  31.0   \n",
              "7           10      115              0              0        0  35.3   \n",
              "8            2      197             70             45      543  30.5   \n",
              "9            8      125             96              0        0   0.0   \n",
              "\n",
              "   DiabetesPedigreeFunction  Age  Outcome  \n",
              "0                     0.627   50        1  \n",
              "1                     0.351   31        0  \n",
              "2                     0.672   32        1  \n",
              "3                     0.167   21        0  \n",
              "4                     2.288   33        1  \n",
              "5                     0.201   30        0  \n",
              "6                     0.248   26        1  \n",
              "7                     0.134   29        0  \n",
              "8                     0.158   53        1  \n",
              "9                     0.232   54        1  "
            ],
            "text/html": [
              "\n",
              "  <div id=\"df-820d6682-439a-4c2b-b304-f67aa8c0a2fc\">\n",
              "    <div class=\"colab-df-container\">\n",
              "      <div>\n",
              "<style scoped>\n",
              "    .dataframe tbody tr th:only-of-type {\n",
              "        vertical-align: middle;\n",
              "    }\n",
              "\n",
              "    .dataframe tbody tr th {\n",
              "        vertical-align: top;\n",
              "    }\n",
              "\n",
              "    .dataframe thead th {\n",
              "        text-align: right;\n",
              "    }\n",
              "</style>\n",
              "<table border=\"1\" class=\"dataframe\">\n",
              "  <thead>\n",
              "    <tr style=\"text-align: right;\">\n",
              "      <th></th>\n",
              "      <th>Pregnancies</th>\n",
              "      <th>Glucose</th>\n",
              "      <th>BloodPressure</th>\n",
              "      <th>SkinThickness</th>\n",
              "      <th>Insulin</th>\n",
              "      <th>BMI</th>\n",
              "      <th>DiabetesPedigreeFunction</th>\n",
              "      <th>Age</th>\n",
              "      <th>Outcome</th>\n",
              "    </tr>\n",
              "  </thead>\n",
              "  <tbody>\n",
              "    <tr>\n",
              "      <th>0</th>\n",
              "      <td>6</td>\n",
              "      <td>148</td>\n",
              "      <td>72</td>\n",
              "      <td>35</td>\n",
              "      <td>0</td>\n",
              "      <td>33.6</td>\n",
              "      <td>0.627</td>\n",
              "      <td>50</td>\n",
              "      <td>1</td>\n",
              "    </tr>\n",
              "    <tr>\n",
              "      <th>1</th>\n",
              "      <td>1</td>\n",
              "      <td>85</td>\n",
              "      <td>66</td>\n",
              "      <td>29</td>\n",
              "      <td>0</td>\n",
              "      <td>26.6</td>\n",
              "      <td>0.351</td>\n",
              "      <td>31</td>\n",
              "      <td>0</td>\n",
              "    </tr>\n",
              "    <tr>\n",
              "      <th>2</th>\n",
              "      <td>8</td>\n",
              "      <td>183</td>\n",
              "      <td>64</td>\n",
              "      <td>0</td>\n",
              "      <td>0</td>\n",
              "      <td>23.3</td>\n",
              "      <td>0.672</td>\n",
              "      <td>32</td>\n",
              "      <td>1</td>\n",
              "    </tr>\n",
              "    <tr>\n",
              "      <th>3</th>\n",
              "      <td>1</td>\n",
              "      <td>89</td>\n",
              "      <td>66</td>\n",
              "      <td>23</td>\n",
              "      <td>94</td>\n",
              "      <td>28.1</td>\n",
              "      <td>0.167</td>\n",
              "      <td>21</td>\n",
              "      <td>0</td>\n",
              "    </tr>\n",
              "    <tr>\n",
              "      <th>4</th>\n",
              "      <td>0</td>\n",
              "      <td>137</td>\n",
              "      <td>40</td>\n",
              "      <td>35</td>\n",
              "      <td>168</td>\n",
              "      <td>43.1</td>\n",
              "      <td>2.288</td>\n",
              "      <td>33</td>\n",
              "      <td>1</td>\n",
              "    </tr>\n",
              "    <tr>\n",
              "      <th>5</th>\n",
              "      <td>5</td>\n",
              "      <td>116</td>\n",
              "      <td>74</td>\n",
              "      <td>0</td>\n",
              "      <td>0</td>\n",
              "      <td>25.6</td>\n",
              "      <td>0.201</td>\n",
              "      <td>30</td>\n",
              "      <td>0</td>\n",
              "    </tr>\n",
              "    <tr>\n",
              "      <th>6</th>\n",
              "      <td>3</td>\n",
              "      <td>78</td>\n",
              "      <td>50</td>\n",
              "      <td>32</td>\n",
              "      <td>88</td>\n",
              "      <td>31.0</td>\n",
              "      <td>0.248</td>\n",
              "      <td>26</td>\n",
              "      <td>1</td>\n",
              "    </tr>\n",
              "    <tr>\n",
              "      <th>7</th>\n",
              "      <td>10</td>\n",
              "      <td>115</td>\n",
              "      <td>0</td>\n",
              "      <td>0</td>\n",
              "      <td>0</td>\n",
              "      <td>35.3</td>\n",
              "      <td>0.134</td>\n",
              "      <td>29</td>\n",
              "      <td>0</td>\n",
              "    </tr>\n",
              "    <tr>\n",
              "      <th>8</th>\n",
              "      <td>2</td>\n",
              "      <td>197</td>\n",
              "      <td>70</td>\n",
              "      <td>45</td>\n",
              "      <td>543</td>\n",
              "      <td>30.5</td>\n",
              "      <td>0.158</td>\n",
              "      <td>53</td>\n",
              "      <td>1</td>\n",
              "    </tr>\n",
              "    <tr>\n",
              "      <th>9</th>\n",
              "      <td>8</td>\n",
              "      <td>125</td>\n",
              "      <td>96</td>\n",
              "      <td>0</td>\n",
              "      <td>0</td>\n",
              "      <td>0.0</td>\n",
              "      <td>0.232</td>\n",
              "      <td>54</td>\n",
              "      <td>1</td>\n",
              "    </tr>\n",
              "  </tbody>\n",
              "</table>\n",
              "</div>\n",
              "      <button class=\"colab-df-convert\" onclick=\"convertToInteractive('df-820d6682-439a-4c2b-b304-f67aa8c0a2fc')\"\n",
              "              title=\"Convert this dataframe to an interactive table.\"\n",
              "              style=\"display:none;\">\n",
              "        \n",
              "  <svg xmlns=\"http://www.w3.org/2000/svg\" height=\"24px\"viewBox=\"0 0 24 24\"\n",
              "       width=\"24px\">\n",
              "    <path d=\"M0 0h24v24H0V0z\" fill=\"none\"/>\n",
              "    <path d=\"M18.56 5.44l.94 2.06.94-2.06 2.06-.94-2.06-.94-.94-2.06-.94 2.06-2.06.94zm-11 1L8.5 8.5l.94-2.06 2.06-.94-2.06-.94L8.5 2.5l-.94 2.06-2.06.94zm10 10l.94 2.06.94-2.06 2.06-.94-2.06-.94-.94-2.06-.94 2.06-2.06.94z\"/><path d=\"M17.41 7.96l-1.37-1.37c-.4-.4-.92-.59-1.43-.59-.52 0-1.04.2-1.43.59L10.3 9.45l-7.72 7.72c-.78.78-.78 2.05 0 2.83L4 21.41c.39.39.9.59 1.41.59.51 0 1.02-.2 1.41-.59l7.78-7.78 2.81-2.81c.8-.78.8-2.07 0-2.86zM5.41 20L4 18.59l7.72-7.72 1.47 1.35L5.41 20z\"/>\n",
              "  </svg>\n",
              "      </button>\n",
              "      \n",
              "  <style>\n",
              "    .colab-df-container {\n",
              "      display:flex;\n",
              "      flex-wrap:wrap;\n",
              "      gap: 12px;\n",
              "    }\n",
              "\n",
              "    .colab-df-convert {\n",
              "      background-color: #E8F0FE;\n",
              "      border: none;\n",
              "      border-radius: 50%;\n",
              "      cursor: pointer;\n",
              "      display: none;\n",
              "      fill: #1967D2;\n",
              "      height: 32px;\n",
              "      padding: 0 0 0 0;\n",
              "      width: 32px;\n",
              "    }\n",
              "\n",
              "    .colab-df-convert:hover {\n",
              "      background-color: #E2EBFA;\n",
              "      box-shadow: 0px 1px 2px rgba(60, 64, 67, 0.3), 0px 1px 3px 1px rgba(60, 64, 67, 0.15);\n",
              "      fill: #174EA6;\n",
              "    }\n",
              "\n",
              "    [theme=dark] .colab-df-convert {\n",
              "      background-color: #3B4455;\n",
              "      fill: #D2E3FC;\n",
              "    }\n",
              "\n",
              "    [theme=dark] .colab-df-convert:hover {\n",
              "      background-color: #434B5C;\n",
              "      box-shadow: 0px 1px 3px 1px rgba(0, 0, 0, 0.15);\n",
              "      filter: drop-shadow(0px 1px 2px rgba(0, 0, 0, 0.3));\n",
              "      fill: #FFFFFF;\n",
              "    }\n",
              "  </style>\n",
              "\n",
              "      <script>\n",
              "        const buttonEl =\n",
              "          document.querySelector('#df-820d6682-439a-4c2b-b304-f67aa8c0a2fc button.colab-df-convert');\n",
              "        buttonEl.style.display =\n",
              "          google.colab.kernel.accessAllowed ? 'block' : 'none';\n",
              "\n",
              "        async function convertToInteractive(key) {\n",
              "          const element = document.querySelector('#df-820d6682-439a-4c2b-b304-f67aa8c0a2fc');\n",
              "          const dataTable =\n",
              "            await google.colab.kernel.invokeFunction('convertToInteractive',\n",
              "                                                     [key], {});\n",
              "          if (!dataTable) return;\n",
              "\n",
              "          const docLinkHtml = 'Like what you see? Visit the ' +\n",
              "            '<a target=\"_blank\" href=https://colab.research.google.com/notebooks/data_table.ipynb>data table notebook</a>'\n",
              "            + ' to learn more about interactive tables.';\n",
              "          element.innerHTML = '';\n",
              "          dataTable['output_type'] = 'display_data';\n",
              "          await google.colab.output.renderOutput(dataTable, element);\n",
              "          const docLink = document.createElement('div');\n",
              "          docLink.innerHTML = docLinkHtml;\n",
              "          element.appendChild(docLink);\n",
              "        }\n",
              "      </script>\n",
              "    </div>\n",
              "  </div>\n",
              "  "
            ]
          },
          "metadata": {},
          "execution_count": 5
        }
      ]
    },
    {
      "cell_type": "code",
      "metadata": {
        "colab": {
          "base_uri": "https://localhost:8080/"
        },
        "id": "ZrslDLESShr7",
        "outputId": "5e4b93ad-989e-482e-e2b7-e0b6ea3302c3"
      },
      "source": [
        "data.columns"
      ],
      "execution_count": 6,
      "outputs": [
        {
          "output_type": "execute_result",
          "data": {
            "text/plain": [
              "Index(['Pregnancies', 'Glucose', 'BloodPressure', 'SkinThickness', 'Insulin',\n",
              "       'BMI', 'DiabetesPedigreeFunction', 'Age', 'Outcome'],\n",
              "      dtype='object')"
            ]
          },
          "metadata": {},
          "execution_count": 6
        }
      ]
    },
    {
      "cell_type": "code",
      "metadata": {
        "colab": {
          "base_uri": "https://localhost:8080/"
        },
        "id": "BLElehZ-Skgq",
        "outputId": "6d44f214-ed42-4574-a07c-243dd549c502"
      },
      "source": [
        "data.values"
      ],
      "execution_count": 7,
      "outputs": [
        {
          "output_type": "execute_result",
          "data": {
            "text/plain": [
              "array([[  6.   , 148.   ,  72.   , ...,   0.627,  50.   ,   1.   ],\n",
              "       [  1.   ,  85.   ,  66.   , ...,   0.351,  31.   ,   0.   ],\n",
              "       [  8.   , 183.   ,  64.   , ...,   0.672,  32.   ,   1.   ],\n",
              "       ...,\n",
              "       [  5.   , 121.   ,  72.   , ...,   0.245,  30.   ,   0.   ],\n",
              "       [  1.   , 126.   ,  60.   , ...,   0.349,  47.   ,   1.   ],\n",
              "       [  1.   ,  93.   ,  70.   , ...,   0.315,  23.   ,   0.   ]])"
            ]
          },
          "metadata": {},
          "execution_count": 7
        }
      ]
    },
    {
      "cell_type": "markdown",
      "metadata": {
        "id": "2HnZxGc4ZQlf"
      },
      "source": [
        "**4. Store the data into input feature and label variables**"
      ]
    },
    {
      "cell_type": "code",
      "metadata": {
        "colab": {
          "base_uri": "https://localhost:8080/"
        },
        "id": "IPfA5BF0Sm4R",
        "outputId": "e60a06e2-28a8-4cc9-8102-f406b12b8189"
      },
      "source": [
        "dataset= data.values\n",
        "X = dataset[:,0:8]\n",
        "Y = dataset[:,8]\n",
        "print(X)\n",
        "print(Y)"
      ],
      "execution_count": 8,
      "outputs": [
        {
          "output_type": "stream",
          "name": "stdout",
          "text": [
            "[[  6.    148.     72.    ...  33.6     0.627  50.   ]\n",
            " [  1.     85.     66.    ...  26.6     0.351  31.   ]\n",
            " [  8.    183.     64.    ...  23.3     0.672  32.   ]\n",
            " ...\n",
            " [  5.    121.     72.    ...  26.2     0.245  30.   ]\n",
            " [  1.    126.     60.    ...  30.1     0.349  47.   ]\n",
            " [  1.     93.     70.    ...  30.4     0.315  23.   ]]\n",
            "[1. 0. 1. 0. 1. 0. 1. 0. 1. 1. 0. 1. 0. 1. 1. 1. 1. 1. 0. 1. 0. 0. 1. 1.\n",
            " 1. 1. 1. 0. 0. 0. 0. 1. 0. 0. 0. 0. 0. 1. 1. 1. 0. 0. 0. 1. 0. 1. 0. 0.\n",
            " 1. 0. 0. 0. 0. 1. 0. 0. 1. 0. 0. 0. 0. 1. 0. 0. 1. 0. 1. 0. 0. 0. 1. 0.\n",
            " 1. 0. 0. 0. 0. 0. 1. 0. 0. 0. 0. 0. 1. 0. 0. 0. 1. 0. 0. 0. 0. 1. 0. 0.\n",
            " 0. 0. 0. 1. 1. 0. 0. 0. 0. 0. 0. 0. 0. 1. 1. 1. 0. 0. 1. 1. 1. 0. 0. 0.\n",
            " 1. 0. 0. 0. 1. 1. 0. 0. 1. 1. 1. 1. 1. 0. 0. 0. 0. 0. 0. 0. 0. 0. 0. 1.\n",
            " 0. 0. 0. 0. 0. 0. 0. 0. 1. 0. 1. 1. 0. 0. 0. 1. 0. 0. 0. 0. 1. 1. 0. 0.\n",
            " 0. 0. 1. 1. 0. 0. 0. 1. 0. 1. 0. 1. 0. 0. 0. 0. 0. 1. 1. 1. 1. 1. 0. 0.\n",
            " 1. 1. 0. 1. 0. 1. 1. 1. 0. 0. 0. 0. 0. 0. 1. 1. 0. 1. 0. 0. 0. 1. 1. 1.\n",
            " 1. 0. 1. 1. 1. 1. 0. 0. 0. 0. 0. 1. 0. 0. 1. 1. 0. 0. 0. 1. 1. 1. 1. 0.\n",
            " 0. 0. 1. 1. 0. 1. 0. 0. 0. 0. 0. 0. 0. 0. 1. 1. 0. 0. 0. 1. 0. 1. 0. 0.\n",
            " 1. 0. 1. 0. 0. 1. 1. 0. 0. 0. 0. 0. 1. 0. 0. 0. 1. 0. 0. 1. 1. 0. 0. 1.\n",
            " 0. 0. 0. 1. 1. 1. 0. 0. 1. 0. 1. 0. 1. 1. 0. 1. 0. 0. 1. 0. 1. 1. 0. 0.\n",
            " 1. 0. 1. 0. 0. 1. 0. 1. 0. 1. 1. 1. 0. 0. 1. 0. 1. 0. 0. 0. 1. 0. 0. 0.\n",
            " 0. 1. 1. 1. 0. 0. 0. 0. 0. 0. 0. 0. 0. 1. 0. 0. 0. 0. 0. 1. 1. 1. 0. 1.\n",
            " 1. 0. 0. 1. 0. 0. 1. 0. 0. 1. 1. 0. 0. 0. 0. 1. 0. 0. 1. 0. 0. 0. 0. 0.\n",
            " 0. 0. 1. 1. 1. 0. 0. 1. 0. 0. 1. 0. 0. 1. 0. 1. 1. 0. 1. 0. 1. 0. 1. 0.\n",
            " 1. 1. 0. 0. 0. 0. 1. 1. 0. 1. 0. 1. 0. 0. 0. 0. 1. 1. 0. 1. 0. 1. 0. 0.\n",
            " 0. 0. 0. 1. 0. 0. 0. 0. 1. 0. 0. 1. 1. 1. 0. 0. 1. 0. 0. 1. 0. 0. 0. 1.\n",
            " 0. 0. 1. 0. 0. 0. 0. 0. 0. 0. 0. 0. 1. 0. 0. 0. 0. 0. 0. 0. 1. 0. 0. 0.\n",
            " 1. 0. 0. 0. 1. 1. 0. 0. 0. 0. 0. 0. 0. 1. 0. 0. 0. 0. 1. 0. 0. 0. 1. 0.\n",
            " 0. 0. 1. 0. 0. 0. 1. 0. 0. 0. 0. 1. 1. 0. 0. 0. 0. 0. 0. 1. 0. 0. 0. 0.\n",
            " 0. 0. 0. 0. 0. 0. 0. 1. 0. 0. 0. 1. 1. 1. 1. 0. 0. 1. 1. 0. 0. 0. 0. 0.\n",
            " 0. 0. 0. 0. 0. 0. 0. 0. 1. 1. 0. 0. 0. 0. 0. 0. 0. 1. 0. 0. 0. 0. 0. 0.\n",
            " 0. 1. 0. 1. 1. 0. 0. 0. 1. 0. 1. 0. 1. 0. 1. 0. 1. 0. 0. 1. 0. 0. 1. 0.\n",
            " 0. 0. 0. 1. 1. 0. 1. 0. 0. 0. 0. 1. 1. 0. 1. 0. 0. 0. 1. 1. 0. 0. 0. 0.\n",
            " 0. 0. 0. 0. 0. 0. 1. 0. 0. 0. 0. 1. 0. 0. 1. 0. 0. 0. 1. 0. 0. 0. 1. 1.\n",
            " 1. 0. 0. 0. 0. 0. 0. 1. 0. 0. 0. 1. 0. 1. 1. 1. 1. 0. 1. 1. 0. 0. 0. 0.\n",
            " 0. 0. 0. 1. 1. 0. 1. 0. 0. 1. 0. 1. 0. 0. 0. 0. 0. 1. 0. 1. 0. 1. 0. 1.\n",
            " 1. 0. 0. 0. 0. 1. 1. 0. 0. 0. 1. 0. 1. 1. 0. 0. 1. 0. 0. 1. 1. 0. 0. 1.\n",
            " 0. 0. 1. 0. 0. 0. 0. 0. 0. 0. 1. 1. 1. 0. 0. 0. 0. 0. 0. 1. 1. 0. 0. 1.\n",
            " 0. 0. 1. 0. 1. 1. 1. 0. 0. 1. 1. 1. 0. 1. 0. 1. 0. 1. 0. 0. 0. 0. 1. 0.]\n"
          ]
        }
      ]
    },
    {
      "cell_type": "markdown",
      "metadata": {
        "id": "OdPZerNUZV4Q"
      },
      "source": [
        "**5. Data Normalization**"
      ]
    },
    {
      "cell_type": "code",
      "metadata": {
        "colab": {
          "base_uri": "https://localhost:8080/"
        },
        "id": "pM4g3T1fWri-",
        "outputId": "3b5f2b9f-7449-4109-ba31-59c0eeddbc95"
      },
      "source": [
        "from sklearn import preprocessing\n",
        "min_max_scaler = preprocessing.MinMaxScaler()\n",
        "X_scale = min_max_scaler.fit_transform(X)\n",
        "X_scale"
      ],
      "execution_count": 9,
      "outputs": [
        {
          "output_type": "execute_result",
          "data": {
            "text/plain": [
              "array([[0.35294118, 0.74371859, 0.59016393, ..., 0.50074516, 0.23441503,\n",
              "        0.48333333],\n",
              "       [0.05882353, 0.42713568, 0.54098361, ..., 0.39642325, 0.11656704,\n",
              "        0.16666667],\n",
              "       [0.47058824, 0.91959799, 0.52459016, ..., 0.34724292, 0.25362938,\n",
              "        0.18333333],\n",
              "       ...,\n",
              "       [0.29411765, 0.6080402 , 0.59016393, ..., 0.390462  , 0.07130658,\n",
              "        0.15      ],\n",
              "       [0.05882353, 0.63316583, 0.49180328, ..., 0.4485842 , 0.11571307,\n",
              "        0.43333333],\n",
              "       [0.05882353, 0.46733668, 0.57377049, ..., 0.45305514, 0.10119556,\n",
              "        0.03333333]])"
            ]
          },
          "metadata": {},
          "execution_count": 9
        }
      ]
    },
    {
      "cell_type": "markdown",
      "metadata": {
        "id": "n1B5x8C0ZY-e"
      },
      "source": [
        "**6. One-hot vector conversion**"
      ]
    },
    {
      "cell_type": "code",
      "metadata": {
        "colab": {
          "base_uri": "https://localhost:8080/"
        },
        "id": "IWPUAnA-XNd8",
        "outputId": "fa0701e7-2862-4d42-8453-1e46adb6f18e"
      },
      "source": [
        "from keras.utils import np_utils\n",
        "encoded_y = np_utils.to_categorical(Y)\n",
        "encoded_y"
      ],
      "execution_count": 10,
      "outputs": [
        {
          "output_type": "execute_result",
          "data": {
            "text/plain": [
              "array([[0., 1.],\n",
              "       [1., 0.],\n",
              "       [0., 1.],\n",
              "       ...,\n",
              "       [1., 0.],\n",
              "       [0., 1.],\n",
              "       [1., 0.]], dtype=float32)"
            ]
          },
          "metadata": {},
          "execution_count": 10
        }
      ]
    },
    {
      "cell_type": "markdown",
      "metadata": {
        "id": "IeJWmMxjZbgo"
      },
      "source": [
        "**7. Split the dataset into training, testing and validation set**"
      ]
    },
    {
      "cell_type": "code",
      "metadata": {
        "colab": {
          "base_uri": "https://localhost:8080/"
        },
        "id": "3BqXnV1FXYIV",
        "outputId": "5210bedf-7d85-49e3-ff32-80017716fbc5"
      },
      "source": [
        "from sklearn.model_selection import train_test_split\n",
        "X_training, X_testing, Y_training, Y_testing = train_test_split(X_scale, encoded_y, test_size=0.2, random_state=10)\n",
        "X_training, X_valid, Y_training, Y_valid = train_test_split(X_training, Y_training, test_size=0.2, random_state=10)\n",
        "print(len(X_training))\n",
        "print(len(X_testing))\n",
        "print(len(X_valid))"
      ],
      "execution_count": 11,
      "outputs": [
        {
          "output_type": "stream",
          "name": "stdout",
          "text": [
            "491\n",
            "154\n",
            "123\n"
          ]
        }
      ]
    },
    {
      "cell_type": "markdown",
      "metadata": {
        "id": "EH9IZizVZfKB"
      },
      "source": [
        "**8. Model Creation**"
      ]
    },
    {
      "cell_type": "code",
      "metadata": {
        "id": "hNfmvbMOXeku",
        "colab": {
          "base_uri": "https://localhost:8080/"
        },
        "outputId": "f3b541c7-b649-4ee7-c85b-20f29b331771"
      },
      "source": [
        "from keras.models import Sequential\n",
        "from keras.layers import Dense\n",
        "\n",
        "# Creating the model\n",
        "model = Sequential()\n",
        "model.add(Dense(24, input_shape=(8,), activation='relu'))\n",
        "model.add(Dense(20, activation='relu'))\n",
        "model.add(Dense(12, activation='tanh'))\n",
        "model.add(Dense(8, activation='relu'))\n",
        "model.add(Dense(2, activation='softmax'))\n",
        "model.summary()   #gives a summary of the model"
      ],
      "execution_count": 12,
      "outputs": [
        {
          "output_type": "stream",
          "name": "stdout",
          "text": [
            "Model: \"sequential\"\n",
            "_________________________________________________________________\n",
            " Layer (type)                Output Shape              Param #   \n",
            "=================================================================\n",
            " dense (Dense)               (None, 24)                216       \n",
            "                                                                 \n",
            " dense_1 (Dense)             (None, 20)                500       \n",
            "                                                                 \n",
            " dense_2 (Dense)             (None, 12)                252       \n",
            "                                                                 \n",
            " dense_3 (Dense)             (None, 8)                 104       \n",
            "                                                                 \n",
            " dense_4 (Dense)             (None, 2)                 18        \n",
            "                                                                 \n",
            "=================================================================\n",
            "Total params: 1,090\n",
            "Trainable params: 1,090\n",
            "Non-trainable params: 0\n",
            "_________________________________________________________________\n"
          ]
        }
      ]
    },
    {
      "cell_type": "markdown",
      "metadata": {
        "id": "iYxZHI_EZiEF"
      },
      "source": [
        "**9. Model Compile**"
      ]
    },
    {
      "cell_type": "code",
      "metadata": {
        "id": "plF2qlxwXiIY"
      },
      "source": [
        "from tensorflow.keras import optimizers\n",
        "opt=optimizers.SGD(learning_rate=0.01)\n",
        "model.compile(loss='categorical_crossentropy', optimizer=opt, metrics=['accuracy'])"
      ],
      "execution_count": 13,
      "outputs": []
    },
    {
      "cell_type": "markdown",
      "metadata": {
        "id": "E8VrUFVQZkNd"
      },
      "source": [
        "**10. Model Training**"
      ]
    },
    {
      "cell_type": "markdown",
      "source": [
        "if you have 1000 training examples, and your batch size is  500, then it will take 2 iterations to complete 1 epoch."
      ],
      "metadata": {
        "id": "08Ul5lN90_Sp"
      }
    },
    {
      "cell_type": "code",
      "metadata": {
        "colab": {
          "base_uri": "https://localhost:8080/"
        },
        "id": "xhDZ8yPhXrs0",
        "outputId": "64593021-6b01-4b22-83f0-07070fb166cd"
      },
      "source": [
        "hist = model.fit(X_training, Y_training,batch_size=4,  epochs=80, validation_data=(X_valid,Y_valid))"
      ],
      "execution_count": 16,
      "outputs": [
        {
          "output_type": "stream",
          "name": "stdout",
          "text": [
            "Epoch 1/80\n",
            "123/123 [==============================] - 0s 2ms/step - loss: 0.3511 - accuracy: 0.8391 - val_loss: 0.6057 - val_accuracy: 0.7561\n",
            "Epoch 2/80\n",
            "123/123 [==============================] - 0s 2ms/step - loss: 0.3357 - accuracy: 0.8534 - val_loss: 0.5833 - val_accuracy: 0.7480\n",
            "Epoch 3/80\n",
            "123/123 [==============================] - 0s 3ms/step - loss: 0.3595 - accuracy: 0.8371 - val_loss: 0.6012 - val_accuracy: 0.7398\n",
            "Epoch 4/80\n",
            "123/123 [==============================] - 0s 3ms/step - loss: 0.3354 - accuracy: 0.8513 - val_loss: 0.6047 - val_accuracy: 0.7724\n",
            "Epoch 5/80\n",
            "123/123 [==============================] - 0s 2ms/step - loss: 0.3442 - accuracy: 0.8371 - val_loss: 0.6573 - val_accuracy: 0.7317\n",
            "Epoch 6/80\n",
            "123/123 [==============================] - 0s 2ms/step - loss: 0.3440 - accuracy: 0.8452 - val_loss: 0.6106 - val_accuracy: 0.7561\n",
            "Epoch 7/80\n",
            "123/123 [==============================] - 0s 2ms/step - loss: 0.3492 - accuracy: 0.8330 - val_loss: 0.6199 - val_accuracy: 0.7398\n",
            "Epoch 8/80\n",
            "123/123 [==============================] - 0s 2ms/step - loss: 0.3489 - accuracy: 0.8452 - val_loss: 0.5919 - val_accuracy: 0.7642\n",
            "Epoch 9/80\n",
            "123/123 [==============================] - 0s 2ms/step - loss: 0.3367 - accuracy: 0.8513 - val_loss: 0.6171 - val_accuracy: 0.7398\n",
            "Epoch 10/80\n",
            "123/123 [==============================] - 0s 3ms/step - loss: 0.3438 - accuracy: 0.8554 - val_loss: 0.6216 - val_accuracy: 0.7480\n",
            "Epoch 11/80\n",
            "123/123 [==============================] - 0s 2ms/step - loss: 0.3448 - accuracy: 0.8534 - val_loss: 0.6012 - val_accuracy: 0.7317\n",
            "Epoch 12/80\n",
            "123/123 [==============================] - 0s 2ms/step - loss: 0.3537 - accuracy: 0.8432 - val_loss: 0.6141 - val_accuracy: 0.7480\n",
            "Epoch 13/80\n",
            "123/123 [==============================] - 0s 3ms/step - loss: 0.3329 - accuracy: 0.8493 - val_loss: 0.7947 - val_accuracy: 0.6667\n",
            "Epoch 14/80\n",
            "123/123 [==============================] - 0s 2ms/step - loss: 0.3506 - accuracy: 0.8391 - val_loss: 0.6118 - val_accuracy: 0.7480\n",
            "Epoch 15/80\n",
            "123/123 [==============================] - 0s 3ms/step - loss: 0.3395 - accuracy: 0.8432 - val_loss: 0.6402 - val_accuracy: 0.7398\n",
            "Epoch 16/80\n",
            "123/123 [==============================] - 0s 2ms/step - loss: 0.3438 - accuracy: 0.8493 - val_loss: 0.6265 - val_accuracy: 0.7317\n",
            "Epoch 17/80\n",
            "123/123 [==============================] - 0s 2ms/step - loss: 0.3346 - accuracy: 0.8676 - val_loss: 0.6175 - val_accuracy: 0.7561\n",
            "Epoch 18/80\n",
            "123/123 [==============================] - 0s 2ms/step - loss: 0.3468 - accuracy: 0.8289 - val_loss: 0.6068 - val_accuracy: 0.7480\n",
            "Epoch 19/80\n",
            "123/123 [==============================] - 0s 3ms/step - loss: 0.3379 - accuracy: 0.8452 - val_loss: 0.6321 - val_accuracy: 0.7236\n",
            "Epoch 20/80\n",
            "123/123 [==============================] - 0s 2ms/step - loss: 0.3299 - accuracy: 0.8676 - val_loss: 0.6172 - val_accuracy: 0.7480\n",
            "Epoch 21/80\n",
            "123/123 [==============================] - 0s 2ms/step - loss: 0.3352 - accuracy: 0.8513 - val_loss: 0.6127 - val_accuracy: 0.7642\n",
            "Epoch 22/80\n",
            "123/123 [==============================] - 0s 3ms/step - loss: 0.3408 - accuracy: 0.8534 - val_loss: 0.6141 - val_accuracy: 0.7642\n",
            "Epoch 23/80\n",
            "123/123 [==============================] - 0s 2ms/step - loss: 0.3315 - accuracy: 0.8534 - val_loss: 0.6095 - val_accuracy: 0.7642\n",
            "Epoch 24/80\n",
            "123/123 [==============================] - 0s 2ms/step - loss: 0.3395 - accuracy: 0.8534 - val_loss: 0.6945 - val_accuracy: 0.7154\n",
            "Epoch 25/80\n",
            "123/123 [==============================] - 0s 3ms/step - loss: 0.3317 - accuracy: 0.8452 - val_loss: 0.6565 - val_accuracy: 0.7561\n",
            "Epoch 26/80\n",
            "123/123 [==============================] - 0s 2ms/step - loss: 0.3349 - accuracy: 0.8432 - val_loss: 0.6515 - val_accuracy: 0.7317\n",
            "Epoch 27/80\n",
            "123/123 [==============================] - 0s 2ms/step - loss: 0.3286 - accuracy: 0.8534 - val_loss: 0.6333 - val_accuracy: 0.7236\n",
            "Epoch 28/80\n",
            "123/123 [==============================] - 0s 2ms/step - loss: 0.3417 - accuracy: 0.8391 - val_loss: 0.6427 - val_accuracy: 0.7480\n",
            "Epoch 29/80\n",
            "123/123 [==============================] - 0s 3ms/step - loss: 0.3322 - accuracy: 0.8452 - val_loss: 0.6202 - val_accuracy: 0.7561\n",
            "Epoch 30/80\n",
            "123/123 [==============================] - 0s 2ms/step - loss: 0.3318 - accuracy: 0.8473 - val_loss: 0.6450 - val_accuracy: 0.7317\n",
            "Epoch 31/80\n",
            "123/123 [==============================] - 0s 3ms/step - loss: 0.3374 - accuracy: 0.8656 - val_loss: 0.7088 - val_accuracy: 0.7154\n",
            "Epoch 32/80\n",
            "123/123 [==============================] - 0s 3ms/step - loss: 0.3367 - accuracy: 0.8432 - val_loss: 0.6390 - val_accuracy: 0.7398\n",
            "Epoch 33/80\n",
            "123/123 [==============================] - 0s 2ms/step - loss: 0.3357 - accuracy: 0.8452 - val_loss: 0.6244 - val_accuracy: 0.7561\n",
            "Epoch 34/80\n",
            "123/123 [==============================] - 0s 3ms/step - loss: 0.3290 - accuracy: 0.8574 - val_loss: 0.6241 - val_accuracy: 0.7642\n",
            "Epoch 35/80\n",
            "123/123 [==============================] - 0s 3ms/step - loss: 0.3283 - accuracy: 0.8391 - val_loss: 0.6676 - val_accuracy: 0.7317\n",
            "Epoch 36/80\n",
            "123/123 [==============================] - 0s 3ms/step - loss: 0.3301 - accuracy: 0.8574 - val_loss: 0.6375 - val_accuracy: 0.7480\n",
            "Epoch 37/80\n",
            "123/123 [==============================] - 0s 3ms/step - loss: 0.3271 - accuracy: 0.8452 - val_loss: 0.6556 - val_accuracy: 0.7398\n",
            "Epoch 38/80\n",
            "123/123 [==============================] - 0s 3ms/step - loss: 0.3175 - accuracy: 0.8676 - val_loss: 0.6520 - val_accuracy: 0.7236\n",
            "Epoch 39/80\n",
            "123/123 [==============================] - 0s 3ms/step - loss: 0.3310 - accuracy: 0.8473 - val_loss: 0.6475 - val_accuracy: 0.7724\n",
            "Epoch 40/80\n",
            "123/123 [==============================] - 0s 2ms/step - loss: 0.3140 - accuracy: 0.8574 - val_loss: 0.6836 - val_accuracy: 0.7561\n",
            "Epoch 41/80\n",
            "123/123 [==============================] - 0s 3ms/step - loss: 0.3290 - accuracy: 0.8473 - val_loss: 0.6831 - val_accuracy: 0.7398\n",
            "Epoch 42/80\n",
            "123/123 [==============================] - 0s 3ms/step - loss: 0.3336 - accuracy: 0.8615 - val_loss: 0.6356 - val_accuracy: 0.7561\n",
            "Epoch 43/80\n",
            "123/123 [==============================] - 0s 3ms/step - loss: 0.3143 - accuracy: 0.8737 - val_loss: 0.6580 - val_accuracy: 0.7398\n",
            "Epoch 44/80\n",
            "123/123 [==============================] - 0s 2ms/step - loss: 0.3237 - accuracy: 0.8493 - val_loss: 0.6859 - val_accuracy: 0.7480\n",
            "Epoch 45/80\n",
            "123/123 [==============================] - 0s 2ms/step - loss: 0.3276 - accuracy: 0.8350 - val_loss: 0.6441 - val_accuracy: 0.7561\n",
            "Epoch 46/80\n",
            "123/123 [==============================] - 0s 3ms/step - loss: 0.3290 - accuracy: 0.8452 - val_loss: 0.7547 - val_accuracy: 0.6992\n",
            "Epoch 47/80\n",
            "123/123 [==============================] - 0s 3ms/step - loss: 0.3230 - accuracy: 0.8493 - val_loss: 0.6896 - val_accuracy: 0.7480\n",
            "Epoch 48/80\n",
            "123/123 [==============================] - 0s 3ms/step - loss: 0.3257 - accuracy: 0.8513 - val_loss: 0.6544 - val_accuracy: 0.7561\n",
            "Epoch 49/80\n",
            "123/123 [==============================] - 0s 3ms/step - loss: 0.3236 - accuracy: 0.8493 - val_loss: 0.6855 - val_accuracy: 0.7236\n",
            "Epoch 50/80\n",
            "123/123 [==============================] - 0s 3ms/step - loss: 0.3187 - accuracy: 0.8676 - val_loss: 0.6927 - val_accuracy: 0.7236\n",
            "Epoch 51/80\n",
            "123/123 [==============================] - 0s 2ms/step - loss: 0.3238 - accuracy: 0.8534 - val_loss: 0.6492 - val_accuracy: 0.7561\n",
            "Epoch 52/80\n",
            "123/123 [==============================] - 0s 3ms/step - loss: 0.3199 - accuracy: 0.8574 - val_loss: 0.6860 - val_accuracy: 0.7236\n",
            "Epoch 53/80\n",
            "123/123 [==============================] - 0s 2ms/step - loss: 0.3175 - accuracy: 0.8574 - val_loss: 0.6634 - val_accuracy: 0.7480\n",
            "Epoch 54/80\n",
            "123/123 [==============================] - 0s 2ms/step - loss: 0.3256 - accuracy: 0.8432 - val_loss: 0.6702 - val_accuracy: 0.7480\n",
            "Epoch 55/80\n",
            "123/123 [==============================] - 0s 3ms/step - loss: 0.3173 - accuracy: 0.8737 - val_loss: 0.6678 - val_accuracy: 0.7398\n",
            "Epoch 56/80\n",
            "123/123 [==============================] - 0s 2ms/step - loss: 0.3113 - accuracy: 0.8697 - val_loss: 0.6978 - val_accuracy: 0.7317\n",
            "Epoch 57/80\n",
            "123/123 [==============================] - 0s 2ms/step - loss: 0.3131 - accuracy: 0.8595 - val_loss: 0.6580 - val_accuracy: 0.7724\n",
            "Epoch 58/80\n",
            "123/123 [==============================] - 0s 2ms/step - loss: 0.3206 - accuracy: 0.8635 - val_loss: 0.6542 - val_accuracy: 0.7480\n",
            "Epoch 59/80\n",
            "123/123 [==============================] - 0s 3ms/step - loss: 0.3138 - accuracy: 0.8554 - val_loss: 0.6591 - val_accuracy: 0.7480\n",
            "Epoch 60/80\n",
            "123/123 [==============================] - 0s 2ms/step - loss: 0.3103 - accuracy: 0.8595 - val_loss: 0.6389 - val_accuracy: 0.7480\n",
            "Epoch 61/80\n",
            "123/123 [==============================] - 0s 2ms/step - loss: 0.3077 - accuracy: 0.8656 - val_loss: 0.7865 - val_accuracy: 0.6504\n",
            "Epoch 62/80\n",
            "123/123 [==============================] - 0s 2ms/step - loss: 0.3216 - accuracy: 0.8452 - val_loss: 0.7454 - val_accuracy: 0.7154\n",
            "Epoch 63/80\n",
            "123/123 [==============================] - 0s 3ms/step - loss: 0.3176 - accuracy: 0.8574 - val_loss: 0.6972 - val_accuracy: 0.7317\n",
            "Epoch 64/80\n",
            "123/123 [==============================] - 0s 2ms/step - loss: 0.3076 - accuracy: 0.8778 - val_loss: 0.6525 - val_accuracy: 0.7642\n",
            "Epoch 65/80\n",
            "123/123 [==============================] - 0s 2ms/step - loss: 0.3056 - accuracy: 0.8697 - val_loss: 0.6841 - val_accuracy: 0.7480\n",
            "Epoch 66/80\n",
            "123/123 [==============================] - 0s 2ms/step - loss: 0.3108 - accuracy: 0.8676 - val_loss: 0.7108 - val_accuracy: 0.7398\n",
            "Epoch 67/80\n",
            "123/123 [==============================] - 0s 2ms/step - loss: 0.3165 - accuracy: 0.8554 - val_loss: 0.6583 - val_accuracy: 0.7886\n",
            "Epoch 68/80\n",
            "123/123 [==============================] - 0s 2ms/step - loss: 0.3093 - accuracy: 0.8473 - val_loss: 0.7707 - val_accuracy: 0.7073\n",
            "Epoch 69/80\n",
            "123/123 [==============================] - 0s 2ms/step - loss: 0.3096 - accuracy: 0.8717 - val_loss: 0.6500 - val_accuracy: 0.7480\n",
            "Epoch 70/80\n",
            "123/123 [==============================] - 0s 3ms/step - loss: 0.3142 - accuracy: 0.8493 - val_loss: 0.6453 - val_accuracy: 0.7398\n",
            "Epoch 71/80\n",
            "123/123 [==============================] - 0s 2ms/step - loss: 0.3134 - accuracy: 0.8574 - val_loss: 0.7151 - val_accuracy: 0.7236\n",
            "Epoch 72/80\n",
            "123/123 [==============================] - 0s 2ms/step - loss: 0.3130 - accuracy: 0.8411 - val_loss: 0.6583 - val_accuracy: 0.7317\n",
            "Epoch 73/80\n",
            "123/123 [==============================] - 0s 2ms/step - loss: 0.3083 - accuracy: 0.8595 - val_loss: 0.7148 - val_accuracy: 0.7480\n",
            "Epoch 74/80\n",
            "123/123 [==============================] - 0s 2ms/step - loss: 0.3017 - accuracy: 0.8676 - val_loss: 0.7220 - val_accuracy: 0.7236\n",
            "Epoch 75/80\n",
            "123/123 [==============================] - 0s 2ms/step - loss: 0.3022 - accuracy: 0.8697 - val_loss: 0.7724 - val_accuracy: 0.6748\n",
            "Epoch 76/80\n",
            "123/123 [==============================] - 0s 2ms/step - loss: 0.3119 - accuracy: 0.8615 - val_loss: 0.7499 - val_accuracy: 0.7236\n",
            "Epoch 77/80\n",
            "123/123 [==============================] - 0s 3ms/step - loss: 0.3089 - accuracy: 0.8534 - val_loss: 0.7304 - val_accuracy: 0.7480\n",
            "Epoch 78/80\n",
            "123/123 [==============================] - 0s 2ms/step - loss: 0.3124 - accuracy: 0.8513 - val_loss: 0.7353 - val_accuracy: 0.7154\n",
            "Epoch 79/80\n",
            "123/123 [==============================] - 0s 2ms/step - loss: 0.3216 - accuracy: 0.8534 - val_loss: 0.6743 - val_accuracy: 0.7398\n",
            "Epoch 80/80\n",
            "123/123 [==============================] - 0s 3ms/step - loss: 0.3065 - accuracy: 0.8615 - val_loss: 0.7483 - val_accuracy: 0.7154\n"
          ]
        }
      ]
    },
    {
      "cell_type": "markdown",
      "metadata": {
        "id": "80o1i3fzZsA-"
      },
      "source": [
        "**11. Plot the training loss and accuracy**"
      ]
    },
    {
      "cell_type": "code",
      "source": [
        "import matplotlib.pyplot as plt \n",
        "acc = hist.history['accuracy']\n",
        "val_acc = hist.history['val_accuracy']\n",
        "loss = hist.history['loss']\n",
        "val_loss = hist.history['val_loss']\n",
        " \n",
        "epochs = range(len(acc))\n",
        " \n",
        "plt.plot(epochs, acc, 'b', label='Training acc')\n",
        "plt.plot(epochs, val_acc, 'r', label='Validation acc')\n",
        "plt.title('Training and validation accuracy')\n",
        "plt.legend()\n",
        "plt.savefig('custom_trainvalacc.png')\n",
        "plt.figure()\n",
        " \n",
        "plt.plot(epochs, loss, 'b', label='Training loss')\n",
        "plt.plot(epochs, val_loss, 'r', label='Validation loss')\n",
        "plt.title('Training and validation loss')\n",
        "plt.legend()\n",
        " \n",
        "#plt.show()\n",
        "plt.savefig('custom_trainvalloss.png')\n",
        "plt.figure()"
      ],
      "metadata": {
        "colab": {
          "base_uri": "https://localhost:8080/",
          "height": 580
        },
        "id": "69dOEi6HAiXT",
        "outputId": "a16a50ba-f8f9-4d0a-de94-62506a60cacf"
      },
      "execution_count": 17,
      "outputs": [
        {
          "output_type": "execute_result",
          "data": {
            "text/plain": [
              "<Figure size 432x288 with 0 Axes>"
            ]
          },
          "metadata": {},
          "execution_count": 17
        },
        {
          "output_type": "display_data",
          "data": {
            "text/plain": [
              "<Figure size 432x288 with 1 Axes>"
            ],
            "image/png": "[encoded data removed]"
          },
          "metadata": {
            "needs_background": "light"
          }
        },
        {
          "output_type": "display_data",
          "data": {
            "text/plain": [
              "<Figure size 432x288 with 1 Axes>"
            ],
            "image/png": "[encoded data removed]"
          },
          "metadata": {
            "needs_background": "light"
          }
        },
        {
          "output_type": "display_data",
          "data": {
            "text/plain": [
              "<Figure size 432x288 with 0 Axes>"
            ]
          },
          "metadata": {}
        }
      ]
    },
    {
      "cell_type": "markdown",
      "metadata": {
        "id": "a8fUXoqeZvwf"
      },
      "source": [
        "**12. Evaluate the performance**"
      ]
    },
    {
      "cell_type": "code",
      "metadata": {
        "colab": {
          "base_uri": "https://localhost:8080/"
        },
        "id": "wawHhkURYMLE",
        "outputId": "079ce974-c73e-4490-bae0-5795b495c1ef"
      },
      "source": [
        "res =model.evaluate(X_testing, Y_testing)"
      ],
      "execution_count": 18,
      "outputs": [
        {
          "output_type": "stream",
          "name": "stdout",
          "text": [
            "5/5 [==============================] - 0s 3ms/step - loss: 0.7267 - accuracy: 0.7078\n"
          ]
        }
      ]
    },
    {
      "cell_type": "markdown",
      "metadata": {
        "id": "0WCSw36oZyG_"
      },
      "source": [
        "**13. Predict on new datatset**\n"
      ]
    },
    {
      "cell_type": "code",
      "metadata": {
        "colab": {
          "base_uri": "https://localhost:8080/"
        },
        "id": "CcE27mGFYo3G",
        "outputId": "5d24ce46-f9b0-4f90-de8c-864ffc0e3db9"
      },
      "source": [
        "test=X_testing[0]\n",
        "y_act=Y_testing[0]\n",
        "result=model.predict(test.reshape(1,8))\n",
        "result"
      ],
      "execution_count": 19,
      "outputs": [
        {
          "output_type": "execute_result",
          "data": {
            "text/plain": [
              "array([[0.6744952 , 0.32550478]], dtype=float32)"
            ]
          },
          "metadata": {},
          "execution_count": 19
        }
      ]
    },
    {
      "cell_type": "code",
      "metadata": {
        "colab": {
          "base_uri": "https://localhost:8080/"
        },
        "id": "T4RDC-ZHYqv_",
        "outputId": "d193d166-7805-4daa-daf4-7a0867919bc6"
      },
      "source": [
        "import numpy as np\n",
        "y_pred = np.round(result)\n",
        "print(\"Actual:\"+ str(y_act))\n",
        "print(\"Predicted:\"+str(y_pred))"
      ],
      "execution_count": 20,
      "outputs": [
        {
          "output_type": "stream",
          "name": "stdout",
          "text": [
            "Actual:[1. 0.]\n",
            "Predicted:[[1. 0.]]\n"
          ]
        }
      ]
    },
    {
      "cell_type": "markdown",
      "metadata": {
        "id": "E9mMqJtXYz2Q"
      },
      "source": [
        "**Reference:** - https://keras.io/"
      ]
    }
  ]
}