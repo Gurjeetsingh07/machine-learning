{
  "nbformat": 4,
  "nbformat_minor": 0,
  "metadata": {
    "colab": {
      "name": "list,comp 3rd lab",
      "provenance": [],
      "collapsed_sections": [],
      "authorship_tag": "ABX9TyNJUAJapfKI77SdvewMustt",
      "include_colab_link": true
    },
    "kernelspec": {
      "name": "python3",
      "display_name": "Python 3"
    },
    "language_info": {
      "name": "python"
    }
  },
  "cells": [
    {
      "cell_type": "markdown",
      "metadata": {
        "id": "view-in-github",
        "colab_type": "text"
      },
      "source": [
        "<a href=\"https://colab.research.google.com/github/Gurjeetsingh07/machine-learning/blob/main/list%2Ccomp_3rd_lab.ipynb\" target=\"_parent\"><img src=\"https://colab.research.google.com/assets/colab-badge.svg\" alt=\"Open In Colab\"/></a>"
      ]
    },
    {
      "cell_type": "code",
      "execution_count": null,
      "metadata": {
        "id": "tteY-fsK81WF"
      },
      "outputs": [],
      "source": [
        "#print number divisible by 2 in list\n",
        "list=[1,2,3,4,5,6,7,8,9,10]\n",
        "for i in list:\n",
        "  if(i%2==0):\n",
        "     {\n",
        "      print(i)\n",
        "     }\n",
        "    "
      ]
    },
    {
      "cell_type": "code",
      "source": [
        "#print all the numbers >=50 and <=100 for some range 1-1000 \n",
        "for i in range(1,1001) :\n",
        "    if i>=50 and i<=100 :\n",
        "     print(i)\n",
        "\n",
        " \n"
      ],
      "metadata": {
        "id": "dPr9A3DJ-PLQ"
      },
      "execution_count": null,
      "outputs": []
    },
    {
      "cell_type": "code",
      "source": [
        "#print the table of 5 from 1 to 30\n",
        "for i in range(1,31):\n",
        "  print(5*i)"
      ],
      "metadata": {
        "id": "1Qg523pS_c6w"
      },
      "execution_count": null,
      "outputs": []
    },
    {
      "cell_type": "code",
      "source": [
        "#count all the vowels present in the string \" i love csit\"\n",
        "string=\"i love the csit department\"\n",
        "j=[]\n",
        "for i in string:\n",
        "  if(i in['a','e','i','o','u']):\n",
        "      j.append(i)\n",
        "print(j)"
      ],
      "metadata": {
        "colab": {
          "base_uri": "https://localhost:8080/"
        },
        "id": "FgMWfQFNALJH",
        "outputId": "5cb22f6f-2c7e-4276-8566-2b1371214f82"
      },
      "execution_count": null,
      "outputs": [
        {
          "output_type": "stream",
          "name": "stdout",
          "text": [
            "['i', 'o', 'e', 'e', 'i', 'e', 'a', 'e']\n"
          ]
        }
      ]
    },
    {
      "cell_type": "code",
      "source": [
        "#print all the keys in lowercase if the value is >= 3000\n",
        "dict1={'maruti':100,'suv':200,'audi':3000,'baleno':4000,'ford':3000}\n",
        "for i in dict1:\n",
        "  if dict1[i]>3000:\n",
        "    print(i.lower())"
      ],
      "metadata": {
        "id": "e_T2Tq86Bz8w"
      },
      "execution_count": null,
      "outputs": []
    },
    {
      "cell_type": "code",
      "source": [
        "#for some range b/w 1-1000 print even if the number is even if odd print odd\n",
        "count=['even' if i%2==0 else 'odd' for i in range(1,1001)]\n",
        "print(count)\n",
        "  "
      ],
      "metadata": {
        "id": "Gn5SMJ9ODPNC"
      },
      "execution_count": null,
      "outputs": []
    },
    {
      "cell_type": "code",
      "source": [
        "()"
      ],
      "metadata": {
        "id": "gVnHyCiuBgfb"
      },
      "execution_count": null,
      "outputs": []
    }
  ]
}